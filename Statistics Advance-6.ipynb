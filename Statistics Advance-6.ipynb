{
 "cells": [
  {
   "cell_type": "markdown",
   "id": "69fddca3-81cf-43f3-93c2-1c428e9de54a",
   "metadata": {},
   "source": [
    "## Q1. Explain the assumptions required to use ANOVA and provide examples of violations that could impact the validity of the results.\n",
    "\n",
    "### Assumptions for ANOVA:\n",
    "1. **Independence of Observations**: The samples must be independent of each other.\n",
    "   - *Violation*: If the data points within a sample are not independent, such as repeated measures on the same subjects without accounting for the correlation.\n",
    "2. **Normality**: The distribution of the residuals (errors) should be approximately normally distributed.\n",
    "   - *Violation*: If the residuals show a significant departure from normality, such as being heavily skewed or having outliers.\n",
    "3. **Homogeneity of Variances (Homoscedasticity)**: The variances across the groups should be equal.\n",
    "   - *Violation*: If one group has a much larger variance than the others, it could affect the ANOVA results.\n"
   ]
  },
  {
   "cell_type": "markdown",
   "id": "6f463f24-c913-4501-b8a8-d970679e3fe4",
   "metadata": {},
   "source": [
    "## Q2. What are the three types of ANOVA, and in what situations would each be used?\n",
    "\n",
    "### Types of ANOVA:\n",
    "1. **One-Way ANOVA**: Used when comparing the means of three or more independent groups based on one independent variable.\n",
    "   - *Example*: Comparing the mean test scores of students from different schools.\n",
    "2. **Two-Way ANOVA**: Used when examining the influence of two different categorical independent variables on one continuous dependent variable.\n",
    "   - *Example*: Studying the effect of different teaching methods and gender on student performance.\n",
    "3. **Repeated Measures ANOVA**: Used when the same subjects are used for each treatment (i.e., repeated measurements are taken).\n",
    "   - *Example*: Measuring the blood pressure of patients at different times after administering a drug.\n"
   ]
  },
  {
   "cell_type": "markdown",
   "id": "55d26a51-be50-456d-a1b4-2bd4a02d2616",
   "metadata": {},
   "source": [
    "## Q3. What is the partitioning of variance in ANOVA, and why is it important to understand this concept?\n",
    "\n",
    "### Partitioning of Variance:\n",
    "- In ANOVA, the total variance observed in the data is partitioned into components:\n",
    "  - **Total Sum of Squares (SST)**: The total variance in the data.\n",
    "  - **Explained Sum of Squares (SSE)**: The variance explained by the independent variable(s).\n",
    "  - **Residual Sum of Squares (SSR)**: The variance that remains unexplained (error variance).\n",
    "- Understanding this partitioning helps in determining how much of the variance in the dependent variable can be attributed to the independent variable(s) versus random error.\n"
   ]
  },
  {
   "cell_type": "markdown",
   "id": "67efa15c-8ac7-4d70-8223-ec335792a111",
   "metadata": {},
   "source": [
    "## Q4. How would you calculate the total sum of squares (SST), explained sum of squares (SSE), and residual sum of squares (SSR) in a one-way ANOVA using Python?\n"
   ]
  },
  {
   "cell_type": "code",
   "execution_count": 1,
   "id": "05ac69dd-9146-4f03-9be6-1040c949e153",
   "metadata": {},
   "outputs": [
    {
     "name": "stdout",
     "output_type": "stream",
     "text": [
      "SST: 65.55555555555556, SSE: 50.88888888888891, SSR: 14.666666666666668\n"
     ]
    }
   ],
   "source": [
    "import numpy as np\n",
    "import pandas as pd\n",
    "\n",
    "# Sample data\n",
    "data = {'Group': ['A', 'A', 'A', 'B', 'B', 'B', 'C', 'C', 'C'],\n",
    "        'Score': [23, 20, 21, 27, 29, 25, 22, 24, 23]}\n",
    "df = pd.DataFrame(data)\n",
    "\n",
    "# Overall mean\n",
    "grand_mean = np.mean(df['Score'])\n",
    "\n",
    "# Total Sum of Squares (SST)\n",
    "sst = np.sum((df['Score'] - grand_mean) ** 2)\n",
    "\n",
    "# Explained Sum of Squares (SSE)\n",
    "sse = df.groupby('Group').apply(lambda x: len(x) * (np.mean(x['Score']) - grand_mean) ** 2).sum()\n",
    "\n",
    "# Residual Sum of Squares (SSR)\n",
    "ssr = df.groupby('Group').apply(lambda x: np.sum((x['Score'] - np.mean(x['Score'])) ** 2)).sum()\n",
    "\n",
    "print(f\"SST: {sst}, SSE: {sse}, SSR: {ssr}\")\n"
   ]
  },
  {
   "cell_type": "markdown",
   "id": "62b2a219-47dc-46ed-acfd-f8658a81298e",
   "metadata": {},
   "source": [
    "## Q5. In a two-way ANOVA, how would you calculate the main effects and interaction effects using Python?\n"
   ]
  },
  {
   "cell_type": "code",
   "execution_count": 2,
   "id": "3afc1a16-d182-4c96-aa36-7c149b00eb20",
   "metadata": {},
   "outputs": [
    {
     "name": "stdout",
     "output_type": "stream",
     "text": [
      "                                 sum_sq    df             F    PR(>F)\n",
      "C(Software)                2.800000e+01   2.0  1.400000e+01  0.000729\n",
      "C(Experience)              4.500000e+00   1.0  4.500000e+00  0.055405\n",
      "C(Software):C(Experience)  6.197674e-29   2.0  3.098837e-29  1.000000\n",
      "Residual                   1.200000e+01  12.0           NaN       NaN\n"
     ]
    }
   ],
   "source": [
    "import pandas as pd\n",
    "import statsmodels.api as sm\n",
    "from statsmodels.formula.api import ols\n",
    "\n",
    "# Sample data\n",
    "data = {'Software': ['A', 'A', 'A', 'B', 'B', 'B', 'C', 'C', 'C'] * 2,\n",
    "        'Experience': ['Novice'] * 9 + ['Experienced'] * 9,\n",
    "        'Time': [12, 11, 13, 15, 14, 16, 13, 12, 14, 11, 10, 12, 14, 13, 15, 12, 11, 13]}\n",
    "df = pd.DataFrame(data)\n",
    "\n",
    "model = ols('Time ~ C(Software) + C(Experience) + C(Software):C(Experience)', data=df).fit()\n",
    "anova_table = sm.stats.anova_lm(model, typ=2)\n",
    "\n",
    "print(anova_table)\n"
   ]
  },
  {
   "cell_type": "markdown",
   "id": "330496d2-ec08-41ca-9879-68aa7a8cffc0",
   "metadata": {},
   "source": [
    "## Q6. Suppose you conducted a one-way ANOVA and obtained an F-statistic of 5.23 and a p-value of 0.02. What can you conclude about the differences between the groups, and how would you interpret these results?\n",
    "\n",
    "### Interpretation:\n",
    "- An F-statistic of 5.23 and a p-value of 0.02 indicate that there is a statistically significant difference between the groups at the 0.05 significance level.\n",
    "- Since the p-value is less than 0.05, we reject the null hypothesis that all group means are equal and conclude that at least one group mean is different from the others.\n"
   ]
  },
  {
   "cell_type": "markdown",
   "id": "92fc83f6-05b4-49c2-9594-aede2b835b86",
   "metadata": {},
   "source": [
    "## Q7. In a repeated measures ANOVA, how would you handle missing data, and what are the potential consequences of using different methods to handle missing data?\n",
    "\n",
    "### Handling Missing Data:\n",
    "1. **Listwise Deletion**: Remove any cases with missing data.\n",
    "   - *Consequence*: Can lead to reduced sample size and potential bias if the missing data is not completely random.\n",
    "2. **Mean Substitution**: Replace missing values with the mean of the observed values.\n",
    "   - *Consequence*: Can underestimate the variability and affect the results.\n",
    "3. **Imputation Methods**: Use statistical techniques to estimate and replace missing values.\n",
    "   - *Consequence*: More sophisticated methods (e.g., multiple imputation) can handle missing data more effectively but require more complex modeling.\n"
   ]
  },
  {
   "cell_type": "markdown",
   "id": "2ce8cae7-b63f-4abd-bc63-725b35bbdb27",
   "metadata": {},
   "source": [
    "## Q8. What are some common post-hoc tests used after ANOVA, and when would you use each one? Provide an example of a situation where a post-hoc test might be necessary.\n",
    "\n",
    "### Common Post-hoc Tests:\n",
    "1. **Tukey's HSD**: Used to compare all possible pairs of means when sample sizes are equal.\n",
    "   - *Example*: After finding a significant difference in mean test scores among three different teaching methods, use Tukey's HSD to identify which methods differ.\n",
    "2. **Bonferroni Correction**: Adjusts the significance level to control for Type I error when multiple comparisons are made.\n",
    "   - *Example*: Comparing the effectiveness of multiple drug treatments where the number of comparisons is large.\n",
    "3. **Scheffé Test**: More conservative, used for unequal sample sizes or more flexible comparisons.\n",
    "   - *Example*: Used when there are unequal sample sizes across groups or if you need a more conservative test.\n"
   ]
  },
  {
   "cell_type": "markdown",
   "id": "b012402c-7da6-41a7-82c6-a2c8515412c9",
   "metadata": {},
   "source": [
    "## Q9. A researcher wants to compare the mean weight loss of three diets: A, B, and C. They collect data from 50 participants who were randomly assigned to one of the diets. Conduct a one-way ANOVA using Python to determine if there are any significant differences between the mean weight loss of the three diets. Report the F-statistic and p-value, and interpret the results.\n"
   ]
  },
  {
   "cell_type": "code",
   "execution_count": 3,
   "id": "ae7e71b4-a37b-40eb-8979-633b78ca6238",
   "metadata": {},
   "outputs": [
    {
     "name": "stdout",
     "output_type": "stream",
     "text": [
      "F-statistic: 32.885105397869786, p-value: 1.5717322025821263e-12\n",
      "There is a significant difference between the mean weight loss of the three diets.\n"
     ]
    }
   ],
   "source": [
    "import pandas as pd\n",
    "import numpy as np\n",
    "from scipy import stats\n",
    "\n",
    "# Sample data for weight loss on three diets\n",
    "np.random.seed(42)\n",
    "diet_A = np.random.normal(loc=5, scale=1.5, size=50)\n",
    "diet_B = np.random.normal(loc=6, scale=1.5, size=50)\n",
    "diet_C = np.random.normal(loc=7, scale=1.5, size=50)\n",
    "\n",
    "data = {'Diet': ['A']*50 + ['B']*50 + ['C']*50,\n",
    "        'Weight_Loss': np.concatenate([diet_A, diet_B, diet_C])}\n",
    "df = pd.DataFrame(data)\n",
    "\n",
    "# One-Way ANOVA\n",
    "f_statistic, p_value = stats.f_oneway(df[df['Diet'] == 'A']['Weight_Loss'],\n",
    "                                      df[df['Diet'] == 'B']['Weight_Loss'],\n",
    "                                      df[df['Diet'] == 'C']['Weight_Loss'])\n",
    "\n",
    "print(f\"F-statistic: {f_statistic}, p-value: {p_value}\")\n",
    "\n",
    "# Interpretation\n",
    "if p_value < 0.05:\n",
    "    print(\"There is a significant difference between the mean weight loss of the three diets.\")\n",
    "else:\n",
    "    print(\"There is no significant difference between the mean weight loss of the three diets.\")\n"
   ]
  },
  {
   "cell_type": "markdown",
   "id": "acb9303e-b682-4130-bd3d-c085c3f18109",
   "metadata": {},
   "source": [
    "## Q10. A company wants to know if there are any significant differences in the average time it takes to complete a task using three different software programs: Program A, Program B, and Program C. They randomly assign 30 employees to one of the programs and record the time it takes each employee to complete the task. Conduct a two-way ANOVA using Python to determine if there are any main effects or interaction effects between the software programs and employee experience level (novice vs. experienced). Report the F-statistics and p-values, and interpret the results.\n"
   ]
  },
  {
   "cell_type": "code",
   "execution_count": 9,
   "id": "bdfd461b-9a4d-4a66-b382-60559c225002",
   "metadata": {},
   "outputs": [
    {
     "name": "stdout",
     "output_type": "stream",
     "text": [
      "                                sum_sq    df         F    PR(>F)\n",
      "C(Software)                 315.753173   2.0  1.838474  0.180766\n",
      "C(Experience)               846.571759   1.0  9.858334  0.004442\n",
      "C(Software):C(Experience)    18.816767   2.0  0.109561  0.896673\n",
      "Residual                   2060.969093  24.0       NaN       NaN\n"
     ]
    }
   ],
   "source": [
    "import pandas as pd\n",
    "import statsmodels.api as sm\n",
    "from statsmodels.formula.api import ols\n",
    "import numpy as np\n",
    "\n",
    "# Sample data\n",
    "software = ['A', 'B', 'C'] * 10\n",
    "experience = ['Novice', 'Experienced'] * 15\n",
    "time = np.random.normal(loc=50, scale=10, size=30) + np.repeat([0, 5, -5], 10) + np.tile([10, 0], 15)\n",
    "\n",
    "# Ensure all arrays have the same length\n",
    "assert len(software) == len(experience) == len(time), \"Arrays must have the same length\"\n",
    "\n",
    "# Create DataFrame\n",
    "df = pd.DataFrame({'Software': software, 'Experience': experience, 'Time': time})\n",
    "\n",
    "# Convert 'Software' and 'Experience' to categorical variables\n",
    "df['Software'] = pd.Categorical(df['Software'])\n",
    "df['Experience'] = pd.Categorical(df['Experience'])\n",
    "\n",
    "# Fit the two-way ANOVA model\n",
    "model = ols('Time ~ C(Software) + C(Experience) + C(Software):C(Experience)', data=df).fit()\n",
    "anova_table = sm.stats.anova_lm(model, typ=2)\n",
    "\n",
    "print(anova_table)\n"
   ]
  },
  {
   "cell_type": "markdown",
   "id": "5e21d5a7-5db3-442e-9d9f-0898de1f2015",
   "metadata": {},
   "source": [
    "## Q11. An educational researcher is interested in whether a new teaching method improves student test scores. They randomly assign 100 students to either the control group (traditional teaching method) or the experimental group (new teaching method) and administer a test at the end of the semester. Conduct a two-sample t-test using Python to determine if there are any significant differences in test scores between the two groups. If the results are significant, follow up with a post-hoc test to determine which group(s) differ significantly from each other.\n"
   ]
  },
  {
   "cell_type": "code",
   "execution_count": 10,
   "id": "24c2e784-a98f-47c9-b68e-e872685ec154",
   "metadata": {},
   "outputs": [
    {
     "name": "stdout",
     "output_type": "stream",
     "text": [
      "T-statistic: -4.108723928204809, p-value: 8.261945608702611e-05\n",
      "There is a significant difference in test scores between the control and experimental groups.\n"
     ]
    }
   ],
   "source": [
    "import numpy as np\n",
    "from scipy import stats\n",
    "\n",
    "# Sample data\n",
    "np.random.seed(42)\n",
    "control_group = np.random.normal(loc=75, scale=10, size=50)\n",
    "experimental_group = np.random.normal(loc=80, scale=10, size=50)\n",
    "\n",
    "# Two-sample t-test\n",
    "t_statistic, p_value = stats.ttest_ind(control_group, experimental_group)\n",
    "\n",
    "print(f\"T-statistic: {t_statistic}, p-value: {p_value}\")\n",
    "\n",
    "# Interpretation\n",
    "if p_value < 0.05:\n",
    "    print(\"There is a significant difference in test scores between the control and experimental groups.\")\n",
    "else:\n",
    "    print(\"There is no significant difference in test scores between the control and experimental groups.\")\n"
   ]
  },
  {
   "cell_type": "markdown",
   "id": "2dcb3908-a17b-4711-8c50-bb82fd1d887c",
   "metadata": {},
   "source": [
    "## Q12. A researcher wants to know if there are any significant differences in the average daily sales of three retail stores: Store A, Store B, and Store C. They randomly select 30 days and record the sales for each store on those days. Conduct a repeated measures ANOVA using Python to determine if there are any significant differences in sales between the three stores. If the results are significant, follow up with a post-hoc test to determine which store(s) differ significantly from each other.\n"
   ]
  },
  {
   "cell_type": "code",
   "execution_count": 11,
   "id": "cc05166b-7e2c-46b2-9649-3add23ee164d",
   "metadata": {},
   "outputs": [
    {
     "name": "stdout",
     "output_type": "stream",
     "text": [
      "               Anova\n",
      "===================================\n",
      "      F Value Num DF  Den DF Pr > F\n",
      "-----------------------------------\n",
      "Store 12.6985 2.0000 58.0000 0.0000\n",
      "===================================\n",
      "\n",
      "There are significant differences in sales between the stores.\n"
     ]
    }
   ],
   "source": [
    "import pandas as pd\n",
    "import numpy as np\n",
    "from statsmodels.stats.anova import AnovaRM\n",
    "\n",
    "# Sample data\n",
    "np.random.seed(42)\n",
    "store_A = np.random.normal(loc=200, scale=20, size=30)\n",
    "store_B = np.random.normal(loc=210, scale=20, size=30)\n",
    "store_C = np.random.normal(loc=220, scale=20, size=30)\n",
    "\n",
    "data = {'Store': ['A']*30 + ['B']*30 + ['C']*30,\n",
    "        'Sales': np.concatenate([store_A, store_B, store_C]),\n",
    "        'Day': np.tile(np.arange(1, 31), 3)}\n",
    "df = pd.DataFrame(data)\n",
    "\n",
    "# Repeated Measures ANOVA\n",
    "aovrm = AnovaRM(df, 'Sales', 'Day', within=['Store'])\n",
    "res = aovrm.fit()\n",
    "\n",
    "print(res)\n",
    "\n",
    "# If significant, follow up with post-hoc test\n",
    "if res.anova_table['Pr > F'][0] < 0.05:\n",
    "    print(\"There are significant differences in sales between the stores.\")\n",
    "else:\n",
    "    print(\"There are no significant differences in sales between the stores.\")\n"
   ]
  },
  {
   "cell_type": "code",
   "execution_count": null,
   "id": "611c0e53-3960-47fc-9a3a-38ad47fb8178",
   "metadata": {},
   "outputs": [],
   "source": []
  }
 ],
 "metadata": {
  "kernelspec": {
   "display_name": "Python 3 (ipykernel)",
   "language": "python",
   "name": "python3"
  },
  "language_info": {
   "codemirror_mode": {
    "name": "ipython",
    "version": 3
   },
   "file_extension": ".py",
   "mimetype": "text/x-python",
   "name": "python",
   "nbconvert_exporter": "python",
   "pygments_lexer": "ipython3",
   "version": "3.10.8"
  }
 },
 "nbformat": 4,
 "nbformat_minor": 5
}
